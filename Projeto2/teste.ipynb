{
 "cells": [
  {
   "cell_type": "code",
   "execution_count": 1,
   "metadata": {},
   "outputs": [],
   "source": [
    "import numpy as np"
   ]
  },
  {
   "cell_type": "code",
   "execution_count": 1,
   "metadata": {},
   "outputs": [],
   "source": [
    "class Ponto:\n",
    "    def __init__(self,x,y):\n",
    "        self.x=x\n",
    "        self.y=y\n",
    "        self.tipo='Ponto_'\n",
    "    def coord(self):\n",
    "        return [self.x,self.y]"
   ]
  },
  {
   "cell_type": "code",
   "execution_count": 3,
   "metadata": {},
   "outputs": [],
   "source": [
    "class Linha:\n",
    "    def __init__(self,x,y):\n",
    "        self.p1=Ponto(x[0],y[0])\n",
    "        self.p2=Ponto(x[1],y[1])\n",
    "        self.comp=np.sqrt((self.p1.x-self.p2.x)**2+(self.p1.y-self.p2.y)**2)\n",
    "    def coord(self):\n",
    "        return [self.p1.coord(),self.p2.coord()]"
   ]
  },
  {
   "cell_type": "code",
   "execution_count": 4,
   "metadata": {},
   "outputs": [],
   "source": [
    "class Circulo:\n",
    "    def __init__(self,xc,yc,raio):\n",
    "        self.centro=Ponto(xc,yc)\n",
    "        self.raio=raio\n",
    "        self.area=np.pi*raio**2\n",
    "        self.perimetro=2*np.pi*raio"
   ]
  },
  {
   "cell_type": "code",
   "execution_count": 78,
   "metadata": {},
   "outputs": [],
   "source": [
    "class Poligono:\n",
    "    def __init__(self,x,y):\n",
    "        self.npontos=len(x)\n",
    "        self.vertices=[Ponto(x[i],y[i]) for i in range(0,self.npontos)]\n",
    "        self.linhas=[Linha([self.vertices[i].x,self.vertices[i+1].x],[self.vertices[i].y,self.vertices[i+1].y]) for i in range(0,self.npontos-1)]+[Linha([self.vertices[self.npontos-1].x,self.vertices[0].x],[self.vertices[self.npontos-1].y,self.vertices[0].y])]\n",
    "        self.centroide=Ponto(sum(x)/self.npontos,sum(y)/self.npontos)\n",
    "    def rotacionar(self,th):\n",
    "        a=th*np.pi/180\n",
    "        P=np.array([[self.vertices[i].x for i in range(self.npontos)],[self.vertices[i].y for i in range(self.npontos)]],dtype=float)\n",
    "        P[0,:]=[x-self.centroide.x for x in P[0,:]]\n",
    "        P[1,:]=[y-self.centroide.y for y in P[1,:]]\n",
    "        M=np.array([[np.cos(a),np.sin(a)],[-np.sin(a),np.cos(a)]],dtype=float)\n",
    "        P=np.dot(M,P)\n",
    "        P[0,:]=[x+self.centroide.x for x in P[0,:]]\n",
    "        P[1,:]=[y+self.centroide.y for y in P[1,:]]\n",
    "        \n",
    "        return Poligono(P[0,:],P[1,:])\n"
   ]
  },
  {
   "cell_type": "code",
   "execution_count": 5,
   "metadata": {},
   "outputs": [
    {
     "data": {
      "text/plain": [
       "3"
      ]
     },
     "metadata": {},
     "output_type": "display_data"
    }
   ],
   "source": [
    "a=['Ponto','Ponto','Ponto']\n",
    "P=Ponto(0.5,0.6)\n",
    "display(a.count(P.tipo)\n"
   ]
  }
 ],
 "metadata": {
  "kernelspec": {
   "display_name": "Python 3",
   "language": "python",
   "name": "python3"
  },
  "language_info": {
   "codemirror_mode": {
    "name": "ipython",
    "version": 3
   },
   "file_extension": ".py",
   "mimetype": "text/x-python",
   "name": "python",
   "nbconvert_exporter": "python",
   "pygments_lexer": "ipython3",
   "version": "3.11.2"
  },
  "orig_nbformat": 4
 },
 "nbformat": 4,
 "nbformat_minor": 2
}
